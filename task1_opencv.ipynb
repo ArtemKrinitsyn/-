{
 "cells": [
  {
   "cell_type": "code",
   "execution_count": 6,
   "id": "3a254516",
   "metadata": {},
   "outputs": [],
   "source": [
    "import cv2 as cv\n",
    "import numpy as np\n",
    "from copy import deepcopy\n",
    "\n",
    "def draw(img1, x, y, r, i, circles):\n",
    "    img = deepcopy(img1)\n",
    "    image = cv.circle(img, (x, y), r, (0, 255, 255), -1)\n",
    "    for my_circle in circles[0,:]:\n",
    "        if ((my_circle[0] - x)**2 + (my_circle[1] - y)**2)**0.5 < my_circle[2] + r:\n",
    "            i += 1\n",
    "    image = cv.putText(image, 'Fruit: ' + str(i), (10, 30), cv.FONT_HERSHEY_SIMPLEX, \n",
    "               1, (255, 0, 0), 2, cv.LINE_AA)\n",
    "    cv.imshow(\"Cute\", image)\n",
    "    return i\n",
    "\n",
    "img = cv.imread('05.jpg')\n",
    "img1 = deepcopy(img)\n",
    "x, y, r, step = 80, 100, 10, 5\n",
    "\n",
    "GrayImage=cv.cvtColor(img,cv.COLOR_BGR2GRAY)\n",
    "GrayImage= cv.medianBlur(GrayImage,5)\n",
    "ret,th1 = cv.threshold(GrayImage,127,255,cv.THRESH_BINARY)\n",
    "th2 = cv.adaptiveThreshold(GrayImage,255,cv.ADAPTIVE_THRESH_MEAN_C,  \n",
    "                    cv.THRESH_BINARY,3,5)  \n",
    "th3 = cv.adaptiveThreshold(GrayImage,255,cv.ADAPTIVE_THRESH_GAUSSIAN_C,  \n",
    "                    cv.THRESH_BINARY,3,5)\n",
    "kernel = np.ones((5,5),np.uint8)\n",
    "erosion = cv.erode(th2,kernel,iterations=1)\n",
    "dilation = cv.dilate(erosion,kernel,iterations=1)\n",
    "imgray=cv.Canny(erosion,30,100)\n",
    "\n",
    "circles = cv.HoughCircles(imgray,cv.HOUGH_GRADIENT,1,20,\n",
    "                            param1=50,param2=30,minRadius=10,maxRadius=50)\n",
    "fruit = 0\n",
    "fruit = draw(img1, x, y, r, fruit, circles)\n",
    "\n",
    "while True:\n",
    "    key = cv.waitKey(0) \n",
    "    if key == ord('0'):\n",
    "        break\n",
    "    if key == ord('d') and x <= img.shape[0] - step - r:\n",
    "        x += step\n",
    "        fruit = draw(img1, x, y, r, fruit, circles)\n",
    "    if key == ord('a') and x >= step + r:\n",
    "        x -= step\n",
    "        fruit = draw(img1, x, y, r, fruit, circles)\n",
    "    if key == ord('w') and y >= step+ r:\n",
    "        y -= step\n",
    "        fruit = draw(img1, x, y, r, fruit, circles)\n",
    "    if  key == ord('s') and y <= img.shape[1] - step - r:\n",
    "        y += step\n",
    "        fruit = draw(img1, x, y, r, fruit, circles)\n",
    "\n",
    "cv.destroyAllWindows()"
   ]
  },
  {
   "cell_type": "code",
   "execution_count": null,
   "id": "a5586063",
   "metadata": {},
   "outputs": [],
   "source": []
  }
 ],
 "metadata": {
  "kernelspec": {
   "display_name": "Python 3",
   "language": "python",
   "name": "python3"
  },
  "language_info": {
   "codemirror_mode": {
    "name": "ipython",
    "version": 3
   },
   "file_extension": ".py",
   "mimetype": "text/x-python",
   "name": "python",
   "nbconvert_exporter": "python",
   "pygments_lexer": "ipython3",
   "version": "3.8.8"
  }
 },
 "nbformat": 4,
 "nbformat_minor": 5
}
